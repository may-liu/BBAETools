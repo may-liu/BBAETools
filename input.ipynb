{
 "cells": [
  {
   "cell_type": "code",
   "execution_count": null,
   "metadata": {},
   "outputs": [],
   "source": [
    "import pandas as pd\n",
    "\n",
    "def parse_table(page_text, current_df=None, file_name=None):\n",
    "    begin = False\n",
    "    heads = None\n",
    "    my_df = None if current_df is None else current_df.copy()\n",
    "    \n",
    "    for s in page_text:\n",
    "        if not begin and s.startswith('Type B/S Trade Date Settle Date QTY SYM PRICE Principal'):\n",
    "            print(s)\n",
    "            a = s.replace('Type', 'Acct-Type')\n",
    "            # 以下两行用来修正2021-01-04的异常账单。对其他账单应该无影响\n",
    "            a = a.replace('TranFee', 'Tran-Fee')\n",
    "            a = a.replace('Number Net AmountTrade#', 'Number Net Amount Trade#')\n",
    "            a = a.replace('Trade Date', 'Trade-Date')\n",
    "            a = a.replace('Settle Date', 'Settle-Date')\n",
    "            a = a.replace('Tran Fee', 'Tran-Fee')\n",
    "            a = a.replace('Fees', \"Add’l-Fees\")\n",
    "            a = a.replace('Number', \"Tag-Number\")\n",
    "            a = a.replace('Net Amount', \"Net-Amount\")\n",
    "            a = a.replace(' T P', \" MKT CAP\")\n",
    "            print(a)\n",
    "            begin = True\n",
    "            heads = a.split(' ')\n",
    "            if my_df is None:\n",
    "                my_df = pd.DataFrame(columns=heads)\n",
    "            continue\n",
    "        if not begin:\n",
    "            continue\n",
    "        if s.startswith('2'):\n",
    "            items = s.split(' ')\n",
    "            if len(items) != len(heads):\n",
    "                raise Exception(f\"{'无名文件' if file_name is None else file_name}: 数字和表头对不上\\n内容:{items}\\n表头:{heads}\")\n",
    "            else:\n",
    "                my_df.loc[my_df.shape[0]] = items\n",
    "    return my_df\n"
   ]
  },
  {
   "cell_type": "code",
   "execution_count": null,
   "metadata": {},
   "outputs": [],
   "source": [
    "import pdfplumber\n",
    "import pathlib\n",
    "\n",
    "files = [f for f in pathlib.Path().glob(\"*.pdf\")]\n",
    "my_df = None\n",
    "\n",
    "for file in files:\n",
    "    pdf = pdfplumber.open(file)\n",
    "    for page in pdf.pages:\n",
    "        my_df = parse_table(page_text=page.extract_text().split('\\n'), current_df=my_df, file_name=file)\n",
    "    \n",
    "my_df"
   ]
  },
  {
   "cell_type": "code",
   "execution_count": null,
   "metadata": {},
   "outputs": [],
   "source": [
    "copy_df = my_df.copy().reset_index(drop=True)\n",
    "copy_df['Principal'] = copy_df['Principal'].apply(lambda x: float(x.replace(',', '')))\n",
    "copy_df['Net-Amount'] = copy_df['Net-Amount'].apply(lambda x: float(x.replace(',', '')))\n",
    "copy_df['QTY'] = copy_df['QTY'].apply(lambda x: int(x.replace(',', '')))\n",
    "copy_df['QTY'] = pd.to_numeric(copy_df.QTY)\n",
    "copy_df['Principal'] = pd.to_numeric(copy_df.Principal)\n",
    "copy_df['Net-Amount'] = pd.to_numeric(copy_df['Net-Amount'])\n",
    "copy_df.to_csv('oprations.csv', encoding='utf-8-sig', index=False)"
   ]
  },
  {
   "cell_type": "code",
   "execution_count": null,
   "metadata": {},
   "outputs": [],
   "source": [
    "# 测试\n",
    "my_df.loc[my_df.SYM =='TSLA']"
   ]
  }
 ],
 "metadata": {
  "kernelspec": {
   "display_name": "venv",
   "language": "python",
   "name": "python3"
  },
  "language_info": {
   "codemirror_mode": {
    "name": "ipython",
    "version": 3
   },
   "file_extension": ".py",
   "mimetype": "text/x-python",
   "name": "python",
   "nbconvert_exporter": "python",
   "pygments_lexer": "ipython3",
   "version": "3.11.8"
  }
 },
 "nbformat": 4,
 "nbformat_minor": 2
}
